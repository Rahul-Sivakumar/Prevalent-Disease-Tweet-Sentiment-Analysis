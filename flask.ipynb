{
 "cells": [
  {
   "cell_type": "code",
   "execution_count": null,
   "metadata": {},
   "outputs": [
    {
     "name": "stdout",
     "output_type": "stream",
     "text": [
      " * Serving Flask app \"__main__\" (lazy loading)\n",
      " * Environment: production\n",
      "\u001b[31m   WARNING: This is a development server. Do not use it in a production deployment.\u001b[0m\n",
      "\u001b[2m   Use a production WSGI server instead.\u001b[0m\n",
      " * Debug mode: off\n"
     ]
    },
    {
     "name": "stderr",
     "output_type": "stream",
     "text": [
      " * Running on http://127.0.0.1:5000/ (Press CTRL+C to quit)\n",
      "127.0.0.1 - - [10/May/2023 12:03:59] \"POST /predict HTTP/1.1\" 200 -\n"
     ]
    },
    {
     "name": "stdout",
     "output_type": "stream",
     "text": [
      "['My mom and dad are feeling great. I have helped them with online shopping.']\n",
      "['Extremely Positive']\n"
     ]
    },
    {
     "name": "stderr",
     "output_type": "stream",
     "text": [
      "127.0.0.1 - - [10/May/2023 12:04:01] \"GET / HTTP/1.1\" 200 -\n",
      "127.0.0.1 - - [10/May/2023 12:04:22] \"POST /predict HTTP/1.1\" 200 -\n"
     ]
    },
    {
     "name": "stdout",
     "output_type": "stream",
     "text": [
      "['My mom and dad are feeling great. I have helped them with Online shopping.']\n",
      "['Extremely Positive']\n"
     ]
    },
    {
     "name": "stderr",
     "output_type": "stream",
     "text": [
      "127.0.0.1 - - [10/May/2023 12:04:24] \"GET / HTTP/1.1\" 200 -\n",
      "127.0.0.1 - - [10/May/2023 12:06:23] \"POST /predict HTTP/1.1\" 200 -\n"
     ]
    },
    {
     "name": "stdout",
     "output_type": "stream",
     "text": [
      "['went to the supermarket and the toys were gone. Is this due to coronavirus?']\n",
      "['Extremely Negative']\n"
     ]
    },
    {
     "name": "stderr",
     "output_type": "stream",
     "text": [
      "127.0.0.1 - - [10/May/2023 12:06:25] \"GET / HTTP/1.1\" 200 -\n",
      "127.0.0.1 - - [10/May/2023 12:06:39] \"POST /predict HTTP/1.1\" 200 -\n"
     ]
    },
    {
     "name": "stdout",
     "output_type": "stream",
     "text": [
      "['Went to the supermarket yesterday and the toilet paper was gone. Has this anything to do with the Corona virus? #COVID2019']\n",
      "['Neutral']\n"
     ]
    },
    {
     "name": "stderr",
     "output_type": "stream",
     "text": [
      "127.0.0.1 - - [10/May/2023 12:06:41] \"GET / HTTP/1.1\" 200 -\n",
      "127.0.0.1 - - [10/May/2023 12:06:53] \"POST /predict HTTP/1.1\" 200 -\n"
     ]
    },
    {
     "name": "stdout",
     "output_type": "stream",
     "text": [
      "['Went to the supermarket yesterday and the toys was gone. Has this anything to do with the Corona virus? #COVID2019']\n",
      "['Neutral']\n"
     ]
    },
    {
     "name": "stderr",
     "output_type": "stream",
     "text": [
      "127.0.0.1 - - [10/May/2023 12:06:55] \"GET / HTTP/1.1\" 200 -\n",
      "127.0.0.1 - - [10/May/2023 12:33:51] \"POST /predict HTTP/1.1\" 200 -\n"
     ]
    },
    {
     "name": "stdout",
     "output_type": "stream",
     "text": [
      "['Went to the market yesterday and the toys was gone. Has this anything to do with the Corona virus? #COVID2021']\n",
      "['Extremely Negative']\n"
     ]
    },
    {
     "name": "stderr",
     "output_type": "stream",
     "text": [
      "127.0.0.1 - - [10/May/2023 12:33:52] \"GET /static/css/bootstrap.min.css HTTP/1.1\" 304 -\n",
      "127.0.0.1 - - [10/May/2023 12:33:52] \"GET /static/image/B.webp HTTP/1.1\" 304 -\n",
      "127.0.0.1 - - [10/May/2023 12:33:53] \"GET / HTTP/1.1\" 200 -\n",
      "127.0.0.1 - - [10/May/2023 12:33:59] \"POST /predict HTTP/1.1\" 200 -\n"
     ]
    },
    {
     "name": "stdout",
     "output_type": "stream",
     "text": [
      "['Went to the supermarket yesterday and the toys was gone. Has this anything to do with the Corona virus? #COVID2021']\n",
      "['Extremely Negative']\n"
     ]
    },
    {
     "name": "stderr",
     "output_type": "stream",
     "text": [
      "127.0.0.1 - - [10/May/2023 12:34:01] \"GET / HTTP/1.1\" 200 -\n",
      "127.0.0.1 - - [10/May/2023 12:34:15] \"POST /predict HTTP/1.1\" 200 -\n"
     ]
    },
    {
     "name": "stdout",
     "output_type": "stream",
     "text": [
      "['Went to the supermarket yesterday and the toys was gone. Has this anything to do with the Corona virus? #COVID2019']\n",
      "['Neutral']\n"
     ]
    },
    {
     "name": "stderr",
     "output_type": "stream",
     "text": [
      "127.0.0.1 - - [10/May/2023 12:34:23] \"GET / HTTP/1.1\" 200 -\n",
      "127.0.0.1 - - [10/May/2023 12:34:50] \"POST /predict HTTP/1.1\" 200 -\n"
     ]
    },
    {
     "name": "stdout",
     "output_type": "stream",
     "text": [
      "['Went to the supermarket yesterday and the toys was gone. Has this anything to do with the Corona virus? #COVID2021']\n",
      "['Extremely Negative']\n"
     ]
    },
    {
     "name": "stderr",
     "output_type": "stream",
     "text": [
      "127.0.0.1 - - [10/May/2023 12:34:52] \"GET / HTTP/1.1\" 200 -\n",
      "127.0.0.1 - - [10/May/2023 12:35:03] \"POST /predict HTTP/1.1\" 200 -\n"
     ]
    },
    {
     "name": "stdout",
     "output_type": "stream",
     "text": [
      "['Went to the supermarket yesterday and the toys was gone. Has this anything to do with the Corona virus? #COVID2019']\n",
      "['Neutral']\n"
     ]
    },
    {
     "name": "stderr",
     "output_type": "stream",
     "text": [
      "127.0.0.1 - - [10/May/2023 12:35:04] \"GET / HTTP/1.1\" 200 -\n",
      "127.0.0.1 - - [10/May/2023 12:35:18] \"POST /predict HTTP/1.1\" 200 -\n"
     ]
    },
    {
     "name": "stdout",
     "output_type": "stream",
     "text": [
      "['Went to the supermarket yesterday and the toys was gone. Has this anything to do with the Corona virus? #COVID']\n",
      "['Neutral']\n"
     ]
    },
    {
     "name": "stderr",
     "output_type": "stream",
     "text": [
      "127.0.0.1 - - [10/May/2023 12:35:21] \"GET / HTTP/1.1\" 200 -\n",
      "127.0.0.1 - - [10/May/2023 12:35:45] \"POST /predict HTTP/1.1\" 200 -\n"
     ]
    },
    {
     "name": "stdout",
     "output_type": "stream",
     "text": [
      "['Went to the supermarket and the toys was gone. Has this anything to do with the Corona virus? #COVID']\n",
      "['Neutral']\n"
     ]
    },
    {
     "name": "stderr",
     "output_type": "stream",
     "text": [
      "127.0.0.1 - - [10/May/2023 12:35:47] \"GET / HTTP/1.1\" 200 -\n",
      "127.0.0.1 - - [10/May/2023 12:36:39] \"POST /predict HTTP/1.1\" 200 -\n"
     ]
    },
    {
     "name": "stdout",
     "output_type": "stream",
     "text": [
      "['Went to the supermarket and the toys was gone. Has this anything to do with the Corona virus? #COVID']\n",
      "['Neutral']\n"
     ]
    },
    {
     "name": "stderr",
     "output_type": "stream",
     "text": [
      "127.0.0.1 - - [10/May/2023 12:36:40] \"GET / HTTP/1.1\" 200 -\n",
      "127.0.0.1 - - [10/May/2023 12:37:06] \"POST /predict HTTP/1.1\" 200 -\n"
     ]
    },
    {
     "name": "stdout",
     "output_type": "stream",
     "text": [
      "['Went to the supermarket and the toys was gone. Has this anything to do with the Corona virus? #COVID']\n",
      "['Neutral']\n"
     ]
    },
    {
     "name": "stderr",
     "output_type": "stream",
     "text": [
      "127.0.0.1 - - [10/May/2023 12:37:07] \"GET / HTTP/1.1\" 200 -\n",
      "127.0.0.1 - - [10/May/2023 12:37:10] \"POST /predict HTTP/1.1\" 200 -\n"
     ]
    },
    {
     "name": "stdout",
     "output_type": "stream",
     "text": [
      "['Went to the supermarket and the toys was gone. Has this anything to do with the Corona virus? #COVID']\n",
      "['Neutral']\n"
     ]
    },
    {
     "name": "stderr",
     "output_type": "stream",
     "text": [
      "127.0.0.1 - - [10/May/2023 12:37:12] \"GET / HTTP/1.1\" 200 -\n",
      "127.0.0.1 - - [10/May/2023 12:37:27] \"POST /predict HTTP/1.1\" 200 -\n"
     ]
    },
    {
     "name": "stdout",
     "output_type": "stream",
     "text": [
      "['Went to the supermarket and the toys was gone. Is this because of Corona virus? #COVID']\n",
      "['Neutral']\n"
     ]
    },
    {
     "name": "stderr",
     "output_type": "stream",
     "text": [
      "127.0.0.1 - - [10/May/2023 12:37:30] \"GET / HTTP/1.1\" 200 -\n",
      "127.0.0.1 - - [10/May/2023 12:37:48] \"POST /predict HTTP/1.1\" 200 -\n"
     ]
    },
    {
     "name": "stdout",
     "output_type": "stream",
     "text": [
      "['Went to the supermarket and the toys was gone. Is this because of the Corona virus? #COVID']\n",
      "['Neutral']\n"
     ]
    },
    {
     "name": "stderr",
     "output_type": "stream",
     "text": [
      "127.0.0.1 - - [10/May/2023 12:37:49] \"GET / HTTP/1.1\" 200 -\n",
      "127.0.0.1 - - [10/May/2023 12:39:18] \"POST /predict HTTP/1.1\" 200 -\n"
     ]
    },
    {
     "name": "stdout",
     "output_type": "stream",
     "text": [
      "['Went to the supermarket and the toys was gone. Is this because of the Corona virus? #COVID']\n",
      "['Neutral']\n"
     ]
    },
    {
     "name": "stderr",
     "output_type": "stream",
     "text": [
      "127.0.0.1 - - [10/May/2023 12:39:20] \"GET / HTTP/1.1\" 200 -\n",
      "127.0.0.1 - - [10/May/2023 12:41:35] \"POST /predict HTTP/1.1\" 200 -\n"
     ]
    },
    {
     "name": "stdout",
     "output_type": "stream",
     "text": [
      "[\"Don't worry its not the end of the world.\"]\n",
      "['Extremely Negative']\n"
     ]
    },
    {
     "name": "stderr",
     "output_type": "stream",
     "text": [
      "127.0.0.1 - - [10/May/2023 12:41:36] \"GET / HTTP/1.1\" 200 -\n",
      "127.0.0.1 - - [10/May/2023 12:41:57] \"POST /predict HTTP/1.1\" 200 -\n"
     ]
    },
    {
     "name": "stdout",
     "output_type": "stream",
     "text": [
      "[' Dont worry its not the end of the world']\n",
      "['Extremely Negative']\n"
     ]
    },
    {
     "name": "stderr",
     "output_type": "stream",
     "text": [
      "127.0.0.1 - - [10/May/2023 12:41:59] \"GET / HTTP/1.1\" 200 -\n",
      "127.0.0.1 - - [10/May/2023 12:42:08] \"POST /predict HTTP/1.1\" 200 -\n"
     ]
    },
    {
     "name": "stdout",
     "output_type": "stream",
     "text": [
      "['Hope everybody is safe! Make sure to wash your hands 10Ã— per day! Also eat healthy food to fight the COVID-19 virus. Dont worry its not the end of the world.Caution = YESpanic     =  NO']\n",
      "['Extremely Positive']\n"
     ]
    },
    {
     "name": "stderr",
     "output_type": "stream",
     "text": [
      "127.0.0.1 - - [10/May/2023 12:42:27] \"GET / HTTP/1.1\" 200 -\n",
      "127.0.0.1 - - [10/May/2023 12:42:37] \"POST /predict HTTP/1.1\" 200 -\n"
     ]
    },
    {
     "name": "stdout",
     "output_type": "stream",
     "text": [
      "['Hope everybody is safe! Make sure to wash your hands 10Ã— per day! Also eat healthy food to fight the COVID-19 virus. Dont worry its not the end of the world.']\n",
      "['Extremely Positive']\n"
     ]
    },
    {
     "name": "stderr",
     "output_type": "stream",
     "text": [
      "127.0.0.1 - - [10/May/2023 12:42:39] \"GET / HTTP/1.1\" 200 -\n",
      "127.0.0.1 - - [10/May/2023 12:43:07] \"POST /predict HTTP/1.1\" 200 -\n"
     ]
    },
    {
     "name": "stdout",
     "output_type": "stream",
     "text": [
      "['Hope everybody is safe! Make sure to wash your hands. Also eat healthy food to fight the COVID-19 virus. Dont worry its not the end of the world.']\n",
      "['Extremely Positive']\n"
     ]
    },
    {
     "name": "stderr",
     "output_type": "stream",
     "text": [
      "127.0.0.1 - - [10/May/2023 12:43:08] \"GET / HTTP/1.1\" 200 -\n",
      "127.0.0.1 - - [10/May/2023 12:43:51] \"POST /predict HTTP/1.1\" 200 -\n"
     ]
    },
    {
     "name": "stdout",
     "output_type": "stream",
     "text": [
      "['Hope everybody is safe! Make sure to wash your hands. Also eat healthy food to fight the COVID-19 virus. Dont worry its not the end of the world.']\n",
      "['Extremely Positive']\n"
     ]
    },
    {
     "name": "stderr",
     "output_type": "stream",
     "text": [
      "127.0.0.1 - - [10/May/2023 12:43:53] \"GET / HTTP/1.1\" 200 -\n",
      "127.0.0.1 - - [10/May/2023 12:44:36] \"POST /predict HTTP/1.1\" 200 -\n"
     ]
    },
    {
     "name": "stdout",
     "output_type": "stream",
     "text": [
      "['DidnÂ’t panic buy. Will now create meal menus out of all the food we have in the cupboards and freezer']\n",
      "['Extremely Negative']\n"
     ]
    },
    {
     "name": "stderr",
     "output_type": "stream",
     "text": [
      "127.0.0.1 - - [10/May/2023 12:44:39] \"GET / HTTP/1.1\" 200 -\n",
      "127.0.0.1 - - [10/May/2023 12:45:40] \"POST /predict HTTP/1.1\" 200 -\n"
     ]
    },
    {
     "name": "stdout",
     "output_type": "stream",
     "text": [
      "['A picture of a supermarket my brother send me from NYC. ']\n",
      "['Extremely Negative']\n"
     ]
    },
    {
     "name": "stderr",
     "output_type": "stream",
     "text": [
      "127.0.0.1 - - [10/May/2023 12:45:41] \"GET / HTTP/1.1\" 200 -\n",
      "127.0.0.1 - - [10/May/2023 12:48:03] \"POST /predict HTTP/1.1\" 200 -\n"
     ]
    },
    {
     "name": "stdout",
     "output_type": "stream",
     "text": [
      "['Protect Yourself From COVID-19! Latex Gloves are 50% off. Get them Now before we run out of stock!  https://t.co/eZnCHMsx8k']\n",
      "['Positive']\n"
     ]
    },
    {
     "name": "stderr",
     "output_type": "stream",
     "text": [
      "127.0.0.1 - - [10/May/2023 12:48:04] \"GET / HTTP/1.1\" 200 -\n",
      "127.0.0.1 - - [10/May/2023 12:48:24] \"POST /predict HTTP/1.1\" 200 -\n"
     ]
    },
    {
     "name": "stdout",
     "output_type": "stream",
     "text": [
      "['Protect Yourself From COVID-19! Latex Gloves are 50% off. Get them now https://t.co/eZnCHMsx8k']\n",
      "['Neutral']\n"
     ]
    },
    {
     "name": "stderr",
     "output_type": "stream",
     "text": [
      "127.0.0.1 - - [10/May/2023 12:48:26] \"GET / HTTP/1.1\" 200 -\n",
      "127.0.0.1 - - [10/May/2023 12:48:37] \"POST /predict HTTP/1.1\" 200 -\n"
     ]
    },
    {
     "name": "stdout",
     "output_type": "stream",
     "text": [
      "['Protect Yourself From COVID-19! Latex Gloves are 50% off. Get them Now before   https://t.co/eZnCHMsx8k']\n",
      "['Neutral']\n"
     ]
    },
    {
     "name": "stderr",
     "output_type": "stream",
     "text": [
      "127.0.0.1 - - [10/May/2023 12:48:38] \"GET / HTTP/1.1\" 200 -\n",
      "127.0.0.1 - - [10/May/2023 12:48:48] \"POST /predict HTTP/1.1\" 200 -\n"
     ]
    },
    {
     "name": "stdout",
     "output_type": "stream",
     "text": [
      "['Protect Yourself From COVID-19! Latex Gloves are 50% off. Get them Now before we run   https://t.co/eZnCHMsx8k']\n",
      "['Positive']\n"
     ]
    },
    {
     "name": "stderr",
     "output_type": "stream",
     "text": [
      "127.0.0.1 - - [10/May/2023 12:48:49] \"GET / HTTP/1.1\" 200 -\n",
      "127.0.0.1 - - [10/May/2023 12:49:33] \"POST /predict HTTP/1.1\" 200 -\n"
     ]
    },
    {
     "name": "stdout",
     "output_type": "stream",
     "text": [
      "['Protect Yourself From COVID-19!Gloves are 50% off in chennai. Get them Now before we run   https://t.co/eZnCHMsx8k']\n",
      "['Positive']\n"
     ]
    },
    {
     "name": "stderr",
     "output_type": "stream",
     "text": [
      "127.0.0.1 - - [10/May/2023 12:49:34] \"GET / HTTP/1.1\" 200 -\n",
      "127.0.0.1 - - [10/May/2023 12:50:28] \"POST /predict HTTP/1.1\" 200 -\n"
     ]
    },
    {
     "name": "stdout",
     "output_type": "stream",
     "text": [
      "['Protect Yourself From COVID-19!  Gloves are 50% off in chennai. Get them now before we run out   https://t.co/eZnCHMsx8k']\n",
      "['Positive']\n"
     ]
    },
    {
     "name": "stderr",
     "output_type": "stream",
     "text": [
      "127.0.0.1 - - [10/May/2023 12:50:30] \"GET / HTTP/1.1\" 200 -\n",
      "127.0.0.1 - - [10/May/2023 12:51:18] \"POST /predict HTTP/1.1\" 200 -\n"
     ]
    },
    {
     "name": "stdout",
     "output_type": "stream",
     "text": [
      "['protect yourself from covid-19!  Gloves are 50% off in chennai. Get them now before we run out https://t.co/eZnCHMsx8k']\n",
      "['Positive']\n"
     ]
    },
    {
     "name": "stderr",
     "output_type": "stream",
     "text": [
      "127.0.0.1 - - [10/May/2023 12:51:20] \"GET / HTTP/1.1\" 200 -\n",
      "127.0.0.1 - - [10/May/2023 12:53:08] \"POST /predict HTTP/1.1\" 200 -\n"
     ]
    },
    {
     "name": "stdout",
     "output_type": "stream",
     "text": [
      "['Please think before you rush out to panic buy food and supplies ']\n",
      "['Extremely Negative']\n"
     ]
    },
    {
     "name": "stderr",
     "output_type": "stream",
     "text": [
      "127.0.0.1 - - [10/May/2023 12:53:10] \"GET / HTTP/1.1\" 200 -\n",
      "127.0.0.1 - - [10/May/2023 12:53:13] \"POST /predict HTTP/1.1\" 200 -\n"
     ]
    },
    {
     "name": "stdout",
     "output_type": "stream",
     "text": [
      "['Please think before you rush out to panic buy food and supplies 19']\n",
      "['Extremely Negative']\n"
     ]
    },
    {
     "name": "stderr",
     "output_type": "stream",
     "text": [
      "127.0.0.1 - - [10/May/2023 12:53:15] \"GET / HTTP/1.1\" 200 -\n",
      "127.0.0.1 - - [10/May/2023 12:53:32] \"POST /predict HTTP/1.1\" 200 -\n"
     ]
    },
    {
     "name": "stdout",
     "output_type": "stream",
     "text": [
      "['This is our Publix this morning. Literally empty. #coronavirus #grocerystore #nofood #apocalypse #thisisnuts https://t.co/907skAN4jr']\n",
      "['Neutral']\n"
     ]
    },
    {
     "name": "stderr",
     "output_type": "stream",
     "text": [
      "127.0.0.1 - - [10/May/2023 12:53:33] \"GET / HTTP/1.1\" 200 -\n",
      "127.0.0.1 - - [10/May/2023 12:53:45] \"POST /predict HTTP/1.1\" 200 -\n"
     ]
    },
    {
     "name": "stdout",
     "output_type": "stream",
     "text": [
      "['Food Retailers hit hard in Canada https://t.co/ZgX3wzUxGa https://t.co/sYBRyPyIu0']\n",
      "['Negative']\n"
     ]
    },
    {
     "name": "stderr",
     "output_type": "stream",
     "text": [
      "127.0.0.1 - - [10/May/2023 12:53:46] \"GET / HTTP/1.1\" 200 -\n",
      "127.0.0.1 - - [10/May/2023 12:53:52] \"POST /predict HTTP/1.1\" 200 -\n"
     ]
    },
    {
     "name": "stdout",
     "output_type": "stream",
     "text": [
      "['Food Retailers hit hard in Canada ']\n",
      "['Extremely Negative']\n"
     ]
    },
    {
     "name": "stderr",
     "output_type": "stream",
     "text": [
      "127.0.0.1 - - [10/May/2023 12:53:54] \"GET / HTTP/1.1\" 200 -\n",
      "127.0.0.1 - - [10/May/2023 12:55:35] \"POST /predict HTTP/1.1\" 200 -\n"
     ]
    },
    {
     "name": "stdout",
     "output_type": "stream",
     "text": [
      "['seeing a lot of empty grocery store shelves']\n",
      "['Neutral']\n"
     ]
    },
    {
     "name": "stderr",
     "output_type": "stream",
     "text": [
      "127.0.0.1 - - [10/May/2023 12:55:37] \"GET / HTTP/1.1\" 200 -\n",
      "127.0.0.1 - - [10/May/2023 12:56:09] \"POST /predict HTTP/1.1\" 200 -\n"
     ]
    },
    {
     "name": "stdout",
     "output_type": "stream",
     "text": [
      "[' Stop panic buying and emptying all the shops! ']\n",
      "['Extremely Negative']\n"
     ]
    },
    {
     "name": "stderr",
     "output_type": "stream",
     "text": [
      "127.0.0.1 - - [10/May/2023 12:56:10] \"GET / HTTP/1.1\" 200 -\n",
      "127.0.0.1 - - [10/May/2023 12:57:43] \"POST /predict HTTP/1.1\" 200 -\n"
     ]
    },
    {
     "name": "stdout",
     "output_type": "stream",
     "text": [
      "['Price gouging and other illegal scams are common during emergencies like #COVID19.']\n",
      "['Extremely Positive']\n"
     ]
    },
    {
     "name": "stderr",
     "output_type": "stream",
     "text": [
      "127.0.0.1 - - [10/May/2023 12:57:45] \"GET / HTTP/1.1\" 200 -\n",
      "127.0.0.1 - - [10/May/2023 12:58:07] \"POST /predict HTTP/1.1\" 200 -\n"
     ]
    },
    {
     "name": "stdout",
     "output_type": "stream",
     "text": [
      "['Oil prices are plunging even more today. bad news for Canada. ?#coronavirus #COVID2019 https://t.co/0jMj1Gpol0']\n",
      "['Negative']\n"
     ]
    },
    {
     "name": "stderr",
     "output_type": "stream",
     "text": [
      "127.0.0.1 - - [10/May/2023 12:58:09] \"GET / HTTP/1.1\" 200 -\n",
      "127.0.0.1 - - [10/May/2023 12:58:19] \"POST /predict HTTP/1.1\" 200 -\n"
     ]
    },
    {
     "name": "stdout",
     "output_type": "stream",
     "text": [
      "['Oil prices are decreasing even more today. bad news for Canada. ?#coronavirus #COVID2019 https://t.co/0jMj1Gpol0']\n",
      "['Negative']\n"
     ]
    },
    {
     "name": "stderr",
     "output_type": "stream",
     "text": [
      "127.0.0.1 - - [10/May/2023 12:58:21] \"GET / HTTP/1.1\" 200 -\n",
      "127.0.0.1 - - [10/May/2023 12:58:33] \"POST /predict HTTP/1.1\" 200 -\n"
     ]
    },
    {
     "name": "stdout",
     "output_type": "stream",
     "text": [
      "['Oil prices are decreasing even more today. bad news for Canada. ?#coronavirus #COVID2019 https://t.co/0jMj1Gpol0']\n",
      "['Negative']\n"
     ]
    },
    {
     "name": "stderr",
     "output_type": "stream",
     "text": [
      "127.0.0.1 - - [10/May/2023 12:58:35] \"GET / HTTP/1.1\" 200 -\n",
      "127.0.0.1 - - [10/May/2023 12:58:40] \"POST /predict HTTP/1.1\" 200 -\n"
     ]
    },
    {
     "name": "stdout",
     "output_type": "stream",
     "text": [
      "['Oil prices are decreasing even more today. bad news for Canada. ?#coronavirus #COVID2019 ']\n",
      "['Extremely Negative']\n"
     ]
    },
    {
     "name": "stderr",
     "output_type": "stream",
     "text": [
      "127.0.0.1 - - [10/May/2023 12:58:41] \"GET / HTTP/1.1\" 200 -\n",
      "127.0.0.1 - - [10/May/2023 12:58:59] \"POST /predict HTTP/1.1\" 200 -\n"
     ]
    },
    {
     "name": "stdout",
     "output_type": "stream",
     "text": [
      "['Oil prices are plunging even more today. bad news for Canada. ?#coronavirus #COVID2019 ']\n",
      "['Extremely Negative']\n"
     ]
    },
    {
     "name": "stderr",
     "output_type": "stream",
     "text": [
      "127.0.0.1 - - [10/May/2023 12:59:01] \"GET / HTTP/1.1\" 200 -\n",
      "127.0.0.1 - - [10/May/2023 12:59:42] \"POST /predict HTTP/1.1\" 200 -\n"
     ]
    },
    {
     "name": "stdout",
     "output_type": "stream",
     "text": [
      "['protect yourself from covid-19! Gloves are 50% off in chennai. Get them now before we run out.']\n",
      "['Neutral']\n"
     ]
    },
    {
     "name": "stderr",
     "output_type": "stream",
     "text": [
      "127.0.0.1 - - [10/May/2023 12:59:44] \"GET / HTTP/1.1\" 200 -\n",
      "127.0.0.1 - - [10/May/2023 13:05:29] \"POST /predict HTTP/1.1\" 200 -\n"
     ]
    },
    {
     "name": "stdout",
     "output_type": "stream",
     "text": [
      "['Food Retailers hit hard in Canada']\n",
      "['Extremely Negative']\n"
     ]
    },
    {
     "name": "stderr",
     "output_type": "stream",
     "text": [
      "127.0.0.1 - - [10/May/2023 13:05:31] \"GET / HTTP/1.1\" 200 -\n",
      "127.0.0.1 - - [10/May/2023 13:10:22] \"POST /predict HTTP/1.1\" 200 -\n"
     ]
    },
    {
     "name": "stdout",
     "output_type": "stream",
     "text": [
      "['Please can we all calm down!!! Stop panic buying and emptying all the shops! ']\n",
      "['Extremely Negative']\n"
     ]
    },
    {
     "name": "stderr",
     "output_type": "stream",
     "text": [
      "127.0.0.1 - - [10/May/2023 13:10:26] \"GET / HTTP/1.1\" 200 -\n",
      "127.0.0.1 - - [10/May/2023 13:20:47] \"POST /predict HTTP/1.1\" 200 -\n"
     ]
    },
    {
     "name": "stdout",
     "output_type": "stream",
     "text": [
      "['protect yourself from covid-19! Gloves are 50% off in chennai. get them now before we run out. https:']\n",
      "['Neutral']\n"
     ]
    },
    {
     "name": "stderr",
     "output_type": "stream",
     "text": [
      "127.0.0.1 - - [10/May/2023 13:20:49] \"GET / HTTP/1.1\" 200 -\n",
      "127.0.0.1 - - [10/May/2023 13:22:06] \"POST /predict HTTP/1.1\" 200 -\n"
     ]
    },
    {
     "name": "stdout",
     "output_type": "stream",
     "text": [
      "[' You will see emails promising information or relief from the Coronavirus.']\n",
      "['Extremely Negative']\n"
     ]
    },
    {
     "name": "stderr",
     "output_type": "stream",
     "text": [
      "127.0.0.1 - - [10/May/2023 13:22:08] \"GET / HTTP/1.1\" 200 -\n",
      "127.0.0.1 - - [10/May/2023 13:24:05] \"POST /predict HTTP/1.1\" 200 -\n"
     ]
    },
    {
     "name": "stdout",
     "output_type": "stream",
     "text": [
      "[' You will see emails promising information or relief from the Coronavirus. they are probably scams.\\r\\nwent to the supermarket and the toys was gone. Is this because of the Corona virus? #COVID']\n",
      "['Neutral']\n"
     ]
    },
    {
     "name": "stderr",
     "output_type": "stream",
     "text": [
      "127.0.0.1 - - [10/May/2023 13:24:07] \"GET / HTTP/1.1\" 200 -\n",
      "127.0.0.1 - - [10/May/2023 13:34:59] \"POST /predict HTTP/1.1\" 200 -\n"
     ]
    },
    {
     "name": "stdout",
     "output_type": "stream",
     "text": [
      "['protect yourself from covid-19! gloves are 50% of in chennai.']\n",
      "['Neutral']\n"
     ]
    },
    {
     "name": "stderr",
     "output_type": "stream",
     "text": [
      "127.0.0.1 - - [10/May/2023 13:35:01] \"GET / HTTP/1.1\" 200 -\n",
      "127.0.0.1 - - [10/May/2023 13:35:16] \"POST /predict HTTP/1.1\" 200 -\n"
     ]
    },
    {
     "name": "stdout",
     "output_type": "stream",
     "text": [
      "['protect yourself from covid-19! gloves are 50% of in chennai. Get them now before.']\n",
      "['Neutral']\n"
     ]
    },
    {
     "name": "stderr",
     "output_type": "stream",
     "text": [
      "127.0.0.1 - - [10/May/2023 13:35:18] \"GET / HTTP/1.1\" 200 -\n",
      "127.0.0.1 - - [10/May/2023 13:35:29] \"POST /predict HTTP/1.1\" 200 -\n"
     ]
    },
    {
     "name": "stdout",
     "output_type": "stream",
     "text": [
      "['protect yourself from covid-19! gloves are 50% of in chennai. Get them now before we run out.']\n",
      "['Neutral']\n"
     ]
    },
    {
     "name": "stderr",
     "output_type": "stream",
     "text": [
      "127.0.0.1 - - [10/May/2023 13:35:30] \"GET / HTTP/1.1\" 200 -\n",
      "127.0.0.1 - - [10/May/2023 13:35:46] \"POST /predict HTTP/1.1\" 200 -\n"
     ]
    },
    {
     "name": "stdout",
     "output_type": "stream",
     "text": [
      "['protect yourself from covid-19! gloves are 50% of in chennai. Get them now before we run out. https: twitter.com/sas.co']\n",
      "['Positive']\n"
     ]
    },
    {
     "name": "stderr",
     "output_type": "stream",
     "text": [
      "127.0.0.1 - - [10/May/2023 13:35:47] \"GET / HTTP/1.1\" 200 -\n",
      "127.0.0.1 - - [10/May/2023 13:35:53] \"POST /predict HTTP/1.1\" 200 -\n"
     ]
    },
    {
     "name": "stdout",
     "output_type": "stream",
     "text": [
      "['protect yourself from covid-19! gloves are 50% of in chennai. Get them now before we run out. https: twitter.com']\n",
      "['Neutral']\n"
     ]
    },
    {
     "name": "stderr",
     "output_type": "stream",
     "text": [
      "127.0.0.1 - - [10/May/2023 13:35:55] \"GET / HTTP/1.1\" 200 -\n",
      "127.0.0.1 - - [10/May/2023 13:36:04] \"POST /predict HTTP/1.1\" 200 -\n"
     ]
    },
    {
     "name": "stdout",
     "output_type": "stream",
     "text": [
      "['protect yourself from covid-19! gloves are 50% of in chennai. Get them now before we run out. https: twitter.co']\n",
      "['Positive']\n"
     ]
    },
    {
     "name": "stderr",
     "output_type": "stream",
     "text": [
      "127.0.0.1 - - [10/May/2023 13:36:06] \"GET / HTTP/1.1\" 200 -\n",
      "127.0.0.1 - - [10/May/2023 13:36:14] \"POST /predict HTTP/1.1\" 200 -\n"
     ]
    },
    {
     "name": "stdout",
     "output_type": "stream",
     "text": [
      "['protect yourself from covid-19! gloves are 50% of in chennai. Get them now before we run out. https: twitter.co']\n",
      "['Positive']\n"
     ]
    },
    {
     "name": "stderr",
     "output_type": "stream",
     "text": [
      "127.0.0.1 - - [10/May/2023 13:36:21] \"GET / HTTP/1.1\" 200 -\n",
      "127.0.0.1 - - [10/May/2023 13:36:43] \"POST /predict HTTP/1.1\" 200 -\n"
     ]
    },
    {
     "name": "stdout",
     "output_type": "stream",
     "text": [
      "['https: twitter.co']\n",
      "['Neutral']\n"
     ]
    },
    {
     "name": "stderr",
     "output_type": "stream",
     "text": [
      "127.0.0.1 - - [10/May/2023 13:36:45] \"GET / HTTP/1.1\" 200 -\n",
      "127.0.0.1 - - [10/May/2023 13:50:02] \"POST /predict HTTP/1.1\" 200 -\n"
     ]
    },
    {
     "name": "stdout",
     "output_type": "stream",
     "text": [
      "[\"\\r\\n@GavinNewsom  so let me get this straight crowds of more then 250 is restrictedBut the grocery store has 9000 people in it and that's just the line alone  #coronavirus #imconfusedasf#wherecanIgo #californialockdown\"]\n",
      "['Extremely Negative']\n"
     ]
    },
    {
     "name": "stderr",
     "output_type": "stream",
     "text": [
      "127.0.0.1 - - [10/May/2023 13:50:09] \"GET / HTTP/1.1\" 200 -\n",
      "127.0.0.1 - - [10/May/2023 13:50:20] \"POST /predict HTTP/1.1\" 200 -\n"
     ]
    },
    {
     "name": "stdout",
     "output_type": "stream",
     "text": [
      "['covid is increasing']\n",
      "['Extremely Negative']\n"
     ]
    },
    {
     "name": "stderr",
     "output_type": "stream",
     "text": [
      "127.0.0.1 - - [10/May/2023 13:50:22] \"GET / HTTP/1.1\" 200 -\n",
      "127.0.0.1 - - [10/May/2023 13:50:57] \"POST /predict HTTP/1.1\" 200 -\n"
     ]
    },
    {
     "name": "stdout",
     "output_type": "stream",
     "text": [
      "['Indian Railways on Tuesday cancelled 85 trains due to low occupancy with CoronaVirus scares from March 18 to April 1 &amp; increased the prices of the platform tickets from ?10 to ?50 in 250 stations.#IndianRailways #SCR #Coronavirus #COVID19 #CoronavirusInIndia #MangoNews https://t.co/AUGW2LOikH']\n",
      "['Extremely Negative']\n"
     ]
    },
    {
     "name": "stderr",
     "output_type": "stream",
     "text": [
      "127.0.0.1 - - [10/May/2023 13:51:30] \"GET / HTTP/1.1\" 200 -\n",
      "127.0.0.1 - - [10/May/2023 13:51:34] \"POST /predict HTTP/1.1\" 200 -\n"
     ]
    },
    {
     "name": "stdout",
     "output_type": "stream",
     "text": [
      "[\"@GavinNewsom  so let me get this straight crowds of more then 250 is restrictedBut the grocery store has 9000 people in it and that's just the line alone  #coronavirus #imconfusedasf#wherecanIgo #californialockdown\"]\n",
      "['Extremely Negative']\n"
     ]
    },
    {
     "name": "stderr",
     "output_type": "stream",
     "text": [
      "127.0.0.1 - - [10/May/2023 13:52:26] \"GET / HTTP/1.1\" 200 -\n",
      "127.0.0.1 - - [10/May/2023 13:52:29] \"POST /predict HTTP/1.1\" 200 -\n"
     ]
    },
    {
     "name": "stdout",
     "output_type": "stream",
     "text": [
      "['Why is Government not transmitting benefits of fall in Cruds oil prices?  I mean not a big slash but atleast bring it down like petrol prices at 60 rs per litre.  #crudeoil#PetrolPrice#coronavirusindia #COVID2019']\n",
      "['Positive']\n"
     ]
    },
    {
     "name": "stderr",
     "output_type": "stream",
     "text": [
      "127.0.0.1 - - [10/May/2023 13:53:38] \"GET / HTTP/1.1\" 200 -\n",
      "127.0.0.1 - - [10/May/2023 13:53:42] \"POST /predict HTTP/1.1\" 200 -\n"
     ]
    },
    {
     "name": "stdout",
     "output_type": "stream",
     "text": [
      "['Will school fees be refunded if the #coronavirus causes closures?This article (?) will be updated as the situation develops https://t.co/4VHwTJRiCA#SchoolClosureUK']\n",
      "['Neutral']\n"
     ]
    },
    {
     "name": "stderr",
     "output_type": "stream",
     "text": [
      "127.0.0.1 - - [10/May/2023 13:53:47] \"GET / HTTP/1.1\" 200 -\n",
      "127.0.0.1 - - [10/May/2023 13:54:04] \"POST /predict HTTP/1.1\" 200 -\n"
     ]
    },
    {
     "name": "stdout",
     "output_type": "stream",
     "text": [
      "['I from don t know if u agrees with me on this but I think since covid 19 reared its ugly head we as humans have become animals and we no longer trust people in the streets fighting over toilet paper panic buying at stores 4 food amp such\\r\\n']\n",
      "['Extremely Negative']\n"
     ]
    },
    {
     "name": "stderr",
     "output_type": "stream",
     "text": [
      "127.0.0.1 - - [10/May/2023 13:57:26] \"GET / HTTP/1.1\" 200 -\n",
      "127.0.0.1 - - [10/May/2023 13:57:29] \"POST /predict HTTP/1.1\" 200 -\n"
     ]
    },
    {
     "name": "stdout",
     "output_type": "stream",
     "text": [
      "[\"Why Grocery store shelves are empty! It's your fault!#coronavirus https://t.co/0wnCjsLPnh\"]\n",
      "['Neutral']\n"
     ]
    },
    {
     "name": "stderr",
     "output_type": "stream",
     "text": [
      "127.0.0.1 - - [10/May/2023 13:57:48] \"GET / HTTP/1.1\" 200 -\n",
      "127.0.0.1 - - [10/May/2023 13:57:52] \"POST /predict HTTP/1.1\" 200 -\n"
     ]
    },
    {
     "name": "stdout",
     "output_type": "stream",
     "text": [
      "['This panic buy is getting out of hand now Supermarket shelves empty We have had to resort to opening the Xmas Lynx Africa gift set just to rob the shower gel out of it']\n",
      "['Extremely Negative']\n"
     ]
    },
    {
     "name": "stderr",
     "output_type": "stream",
     "text": [
      "127.0.0.1 - - [10/May/2023 13:58:57] \"GET / HTTP/1.1\" 200 -\n",
      "127.0.0.1 - - [10/May/2023 13:59:02] \"POST /predict HTTP/1.1\" 200 -\n"
     ]
    },
    {
     "name": "stdout",
     "output_type": "stream",
     "text": [
      "['#Grocers Fail to Keep up with Demand as #Coronavirus #Pandemic SpreadsHeatMap Column 3&gt; https://t.co/HiHeiYufl1  #Food #Economy https://t.co/W0VEtcgwwA']\n",
      "['Extremely Negative']\n"
     ]
    },
    {
     "name": "stderr",
     "output_type": "stream",
     "text": [
      "127.0.0.1 - - [10/May/2023 13:59:31] \"GET / HTTP/1.1\" 200 -\n",
      "127.0.0.1 - - [10/May/2023 13:59:34] \"POST /predict HTTP/1.1\" 200 -\n"
     ]
    },
    {
     "name": "stdout",
     "output_type": "stream",
     "text": [
      "['EveryoneÂ’s panic buying food and toilet roll. Me? IÂ’ve just stocked up on stamps in case I canÂ’t get to the post office ???? #coronavirus']\n",
      "['Extremely Negative']\n"
     ]
    },
    {
     "name": "stderr",
     "output_type": "stream",
     "text": [
      "127.0.0.1 - - [10/May/2023 13:59:54] \"GET / HTTP/1.1\" 200 -\n",
      "127.0.0.1 - - [10/May/2023 13:59:57] \"POST /predict HTTP/1.1\" 200 -\n"
     ]
    },
    {
     "name": "stdout",
     "output_type": "stream",
     "text": [
      "['Why the F does my face start itching the moment I walk into the grocery store? #coronavirus problems']\n",
      "['Neutral']\n"
     ]
    },
    {
     "name": "stderr",
     "output_type": "stream",
     "text": [
      "127.0.0.1 - - [10/May/2023 14:00:02] \"GET / HTTP/1.1\" 200 -\n",
      "127.0.0.1 - - [10/May/2023 14:00:19] \"POST /predict HTTP/1.1\" 200 -\n"
     ]
    },
    {
     "name": "stdout",
     "output_type": "stream",
     "text": [
      "['Oh great. In a world of Covid-19 panic and hording, I get a case of food poisoning and actually need extra TP.']\n",
      "['Negative']\n"
     ]
    },
    {
     "name": "stderr",
     "output_type": "stream",
     "text": [
      "127.0.0.1 - - [10/May/2023 14:11:47] \"GET / HTTP/1.1\" 200 -\n",
      "127.0.0.1 - - [10/May/2023 14:39:12] \"POST /predict HTTP/1.1\" 200 -\n"
     ]
    },
    {
     "name": "stdout",
     "output_type": "stream",
     "text": [
      "['My mom and dad are feeling great. I have helped them with Online shopping.']\n",
      "['Extremely Positive']\n"
     ]
    },
    {
     "name": "stderr",
     "output_type": "stream",
     "text": [
      "127.0.0.1 - - [10/May/2023 14:39:16] \"GET / HTTP/1.1\" 200 -\n",
      "127.0.0.1 - - [10/May/2023 14:39:57] \"POST /predict HTTP/1.1\" 200 -\n"
     ]
    },
    {
     "name": "stdout",
     "output_type": "stream",
     "text": [
      "['My mom and dad are feeling good. I have helped them with Online shopping.']\n",
      "['Extremely Negative']\n"
     ]
    },
    {
     "name": "stderr",
     "output_type": "stream",
     "text": [
      "127.0.0.1 - - [10/May/2023 14:39:59] \"GET / HTTP/1.1\" 200 -\n",
      "127.0.0.1 - - [10/May/2023 14:40:31] \"POST /predict HTTP/1.1\" 200 -\n"
     ]
    },
    {
     "name": "stdout",
     "output_type": "stream",
     "text": [
      "['I from don t know if u agrees with me on this but I think since covid 19 reared its ugly head we as humans have become animals and we no longer trust people in the streets fighting over toilet paper panic buying at stores 4 food amp such']\n",
      "['Extremely Negative']\n"
     ]
    },
    {
     "name": "stderr",
     "output_type": "stream",
     "text": [
      "127.0.0.1 - - [10/May/2023 14:41:10] \"GET / HTTP/1.1\" 200 -\n"
     ]
    }
   ],
   "source": [
    "from flask import Flask,render_template,url_for,request\n",
    "import pandas as pd \n",
    "import joblib\n",
    "\n",
    "# load the model from disk\n",
    "clf = joblib.load(\"rfc.pkl\")\n",
    "cv = joblib.load(\"tv1.pkl\")\n",
    "\n",
    "app = Flask(__name__)\n",
    "\n",
    "@app.route('/')\n",
    "def home():\n",
    "\treturn render_template('home.html')\n",
    "\n",
    "@app.route('/predict',methods=['POST'])\n",
    "def predict():\n",
    "\t\n",
    "\n",
    "\tif request.method == 'POST':\n",
    "\t\tmessage = request.form['message']\n",
    "\t\tdata = [message]\n",
    "\t\tprint(data)\n",
    "\t\tvect = cv.transform(data).toarray()\n",
    "\t\tmy_prediction = clf.predict(vect)\n",
    "\t\tprint(my_prediction)\n",
    "\treturn render_template('result.html',prediction = my_prediction)\n",
    "\n",
    "\n",
    "\n",
    "if __name__ == '__main__':\n",
    "\tapp.run(debug=False)"
   ]
  },
  {
   "cell_type": "code",
   "execution_count": null,
   "metadata": {},
   "outputs": [],
   "source": []
  }
 ],
 "metadata": {
  "kernelspec": {
   "display_name": "Python 3 (ipykernel)",
   "language": "python",
   "name": "python3"
  },
  "language_info": {
   "codemirror_mode": {
    "name": "ipython",
    "version": 3
   },
   "file_extension": ".py",
   "mimetype": "text/x-python",
   "name": "python",
   "nbconvert_exporter": "python",
   "pygments_lexer": "ipython3",
   "version": "3.9.7"
  }
 },
 "nbformat": 4,
 "nbformat_minor": 4
}
